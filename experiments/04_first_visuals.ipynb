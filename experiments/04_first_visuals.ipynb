{
 "cells": [
  {
   "cell_type": "markdown",
   "id": "03f186e2-2a77-44d6-876c-41230f6a7262",
   "metadata": {},
   "source": [
    "# 04_first_visuals\n",
    "Developing first steps to an anomaly detection algorithm with visualisations\n"
   ]
  },
  {
   "cell_type": "markdown",
   "id": "507705dc-f042-46f9-9e08-42adbb90e523",
   "metadata": {},
   "source": [
    "## Import packages"
   ]
  },
  {
   "cell_type": "code",
   "execution_count": 90,
   "id": "8704dd0d-f840-4dde-9adf-be8c2a577687",
   "metadata": {},
   "outputs": [],
   "source": [
    "import sys\n",
    "import os\n",
    "\n",
    "import yaml\n",
    "import pandas as pd\n",
    "import numpy as np\n",
    "from sqlalchemy import create_engine\n",
    "\n",
    "import seaborn as sns\n",
    "import matplotlib.pyplot as plt\n",
    "\n",
    "from bokeh.plotting import figure,save, output_file, show\n",
    "from bokeh.tile_providers import CARTODBPOSITRON, get_provider\n",
    "from bokeh.models import ColumnDataSource\n",
    "from bokeh.palettes import Category10\n",
    "\n",
    "from sklearn.preprocessing import MinMaxScaler\n",
    "\n",
    "from functions.utils import get_folder\n",
    "from functions.data_loads import get_columns, load_data\n",
    "\n",
    "\n",
    "pd.set_option('display.float_format', '{:.2f}'.format)\n",
    "\n",
    "curr_folder = get_folder()\n",
    "parent_fold = curr_folder.parent\n",
    "with open(parent_fold / \"connections.yml\", encoding='utf-8') as file:\n",
    "    db_config = yaml.safe_load(file)\n",
    "    \n",
    "with open(parent_fold / \"configurations\" / \"data_loads.yaml\", encoding='utf-8') as file:\n",
    "    column_conf = yaml.safe_load(file)\n",
    "    \n",
    "engine = create_engine(f'postgresql+psycopg2://{db_config[\"user\"]}:{db_config[\"password\"]}@{db_config[\"host\"]}:{db_config[\"port\"]}/{db_config[\"db\"]}')\n",
    "\n",
    "dates = [\"01.05.2022\",\"05.05.2022\"]"
   ]
  },
  {
   "cell_type": "markdown",
   "id": "5a004fcf-756a-45da-9770-3f6c7484d1d9",
   "metadata": {},
   "source": [
    "## define functions"
   ]
  },
  {
   "cell_type": "code",
   "execution_count": 105,
   "id": "1d34643f-3a03-491d-9d1c-d33d8a65bcbc",
   "metadata": {},
   "outputs": [],
   "source": [
    "def visualize_top_regions(data,columns={'lat':'lat_merc_x','lon':'lon_merc_x','size':'mmsi_nunique'}, titel=\"Most Busy Regions in Norway\"):\n",
    "    \"\"\"\n",
    "    This function creates a plot which visualises the top regions in norway\n",
    "    \"\"\"\n",
    "    tile_provider = get_provider(CARTODBPOSITRON)\n",
    "    \n",
    "    MinMax = MinMaxScaler(feature_range=(1,40))\n",
    "    train = data[columns['size']].to_numpy().reshape(-1,1)\n",
    "    data[columns['size']] = MinMax.fit_transform(train)\n",
    "    p = figure(title=titel, plot_width=800, plot_height=700,\n",
    "           x_range=(1500000, 1700000), y_range=(7000000, 12000000),\n",
    "           x_axis_type=\"mercator\", y_axis_type=\"mercator\")\n",
    "    p.add_tile(tile_provider)\n",
    "    p.circle(x=data[columns['lat']], y=data[columns['lon']], size=data[columns['size']], color=\"red\", fill_alpha=1)\n",
    "    return p\n",
    "\n",
    "def  bar_chart(data, columns={'x':'dow','values':'mmsi_nunique'},titel=\"Most Busy Days\"):\n",
    "    \"\"\"\n",
    "    A Short function to create a bar plot which is showing the data\n",
    "    \n",
    "    \"\"\"\n",
    "    if columns['x'] == 'dow':\n",
    "        replacer = {0:'Monday',1:'Tuesday',2:'Wednesday',3:'Thursday',4:'Friday',5:'Saturday',6:'Sunday'}\n",
    "        data.replace({columns['x']:replacer},inplace=True)\n",
    "        print(data)\n",
    "    p = figure(x_range=data[columns['x']],plot_width=800, plot_height=700,title=titel )\n",
    "    p.vbar(x=data[columns['x']],top=data[columns['values']],color=Category10[7])\n",
    "    p.xgrid.grid_line_color = None\n",
    "    p.y_range.start = 0\n",
    "    \n",
    "    return p"
   ]
  },
  {
   "cell_type": "code",
   "execution_count": 4,
   "id": "1d749619-8725-4e50-92d1-a4a18838ee8d",
   "metadata": {},
   "outputs": [
    {
     "name": "stdout",
     "output_type": "stream",
     "text": [
      "['aisclass_count', 'aisclass_count_l_hour', 'date', 'dow', 'hod', 'lat_merc_x', 'lat_merc_y', 'lon_merc_x', 'lon_merc_y', 'mmsi_nunique', 'mmsi_nunique_l_hour', 'msgtime', 'sog_max', 'sog_max_l_hour', 'sog_mean', 'sog_mean_l_hour', 'sog_min', 'sog_min_l_hour', 'sog_std', 'sog_std_l_hour']\n"
     ]
    }
   ],
   "source": [
    "columns = get_columns(engine,'tbl_positionagg',column_conf['position_unrel_cols'])\n",
    "print(columns)\n",
    "data = load_data(engine,'tbl_positionagg',columns)\n",
    "data['msgtime'] = pd.to_datetime(data['msgtime'])\n",
    "data[['lat_merc_x','lon_merc_x']] = data[['lat_merc_x','lon_merc_x']].round(2)"
   ]
  },
  {
   "cell_type": "code",
   "execution_count": 7,
   "id": "5c75e2f6-e67d-4c4b-821a-432ab314d4c2",
   "metadata": {},
   "outputs": [
    {
     "data": {
      "text/html": [
       "<div>\n",
       "<style scoped>\n",
       "    .dataframe tbody tr th:only-of-type {\n",
       "        vertical-align: middle;\n",
       "    }\n",
       "\n",
       "    .dataframe tbody tr th {\n",
       "        vertical-align: top;\n",
       "    }\n",
       "\n",
       "    .dataframe thead th {\n",
       "        text-align: right;\n",
       "    }\n",
       "</style>\n",
       "<table border=\"1\" class=\"dataframe\">\n",
       "  <thead>\n",
       "    <tr style=\"text-align: right;\">\n",
       "      <th></th>\n",
       "      <th></th>\n",
       "      <th>aisclass_count</th>\n",
       "    </tr>\n",
       "    <tr>\n",
       "      <th>lat_merc_x</th>\n",
       "      <th>lon_merc_x</th>\n",
       "      <th></th>\n",
       "    </tr>\n",
       "  </thead>\n",
       "  <tbody>\n",
       "    <tr>\n",
       "      <th>589993.30</th>\n",
       "      <th>8489337.03</th>\n",
       "      <td>263927</td>\n",
       "    </tr>\n",
       "    <tr>\n",
       "      <th>634521.10</th>\n",
       "      <th>8180386.89</th>\n",
       "      <td>225842</td>\n",
       "    </tr>\n",
       "    <tr>\n",
       "      <th>1191118.55</th>\n",
       "      <th>8377507.56</th>\n",
       "      <td>192763</td>\n",
       "    </tr>\n",
       "    <tr>\n",
       "      <th>2115070.33</th>\n",
       "      <th>10971767.97</th>\n",
       "      <td>192198</td>\n",
       "    </tr>\n",
       "    <tr>\n",
       "      <th>857160.08</th>\n",
       "      <th>9124813.24</th>\n",
       "      <td>160416</td>\n",
       "    </tr>\n",
       "    <tr>\n",
       "      <th>...</th>\n",
       "      <th>...</th>\n",
       "      <td>...</td>\n",
       "    </tr>\n",
       "    <tr>\n",
       "      <th rowspan=\"2\" valign=\"top\">1970354.99</th>\n",
       "      <th>13331165.43</th>\n",
       "      <td>1</td>\n",
       "    </tr>\n",
       "    <tr>\n",
       "      <th>13611218.89</th>\n",
       "      <td>1</td>\n",
       "    </tr>\n",
       "    <tr>\n",
       "      <th rowspan=\"2\" valign=\"top\">1981486.94</th>\n",
       "      <th>10476778.07</th>\n",
       "      <td>1</td>\n",
       "    </tr>\n",
       "    <tr>\n",
       "      <th>10876182.95</th>\n",
       "      <td>1</td>\n",
       "    </tr>\n",
       "    <tr>\n",
       "      <th>1447153.38</th>\n",
       "      <th>11003930.41</th>\n",
       "      <td>1</td>\n",
       "    </tr>\n",
       "  </tbody>\n",
       "</table>\n",
       "<p>20100 rows × 1 columns</p>\n",
       "</div>"
      ],
      "text/plain": [
       "                        aisclass_count\n",
       "lat_merc_x lon_merc_x                 \n",
       "589993.30  8489337.03           263927\n",
       "634521.10  8180386.89           225842\n",
       "1191118.55 8377507.56           192763\n",
       "2115070.33 10971767.97          192198\n",
       "857160.08  9124813.24           160416\n",
       "...                                ...\n",
       "1970354.99 13331165.43               1\n",
       "           13611218.89               1\n",
       "1981486.94 10476778.07               1\n",
       "           10876182.95               1\n",
       "1447153.38 11003930.41               1\n",
       "\n",
       "[20100 rows x 1 columns]"
      ]
     },
     "execution_count": 7,
     "metadata": {},
     "output_type": "execute_result"
    }
   ],
   "source": [
    "data[['lat_merc_x','lon_merc_x','aisclass_count']].groupby(['lat_merc_x','lon_merc_x']).sum().sort_values(['aisclass_count'],ascending=False)"
   ]
  },
  {
   "cell_type": "markdown",
   "id": "5564e763-5750-4888-a7ec-61b4b8b3e764",
   "metadata": {},
   "source": [
    "## test data set"
   ]
  },
  {
   "cell_type": "code",
   "execution_count": 48,
   "id": "36fb7785-d76c-43e3-8adc-00c8ac8713a7",
   "metadata": {},
   "outputs": [
    {
     "data": {
      "text/plain": [
       "[<matplotlib.lines.Line2D at 0x1b617048760>]"
      ]
     },
     "execution_count": 48,
     "metadata": {},
     "output_type": "execute_result"
    },
    {
     "data": {
      "image/png": "[encoded data removed]",
      "text/plain": [
       "<Figure size 1080x432 with 1 Axes>"
      ]
     },
     "metadata": {
      "needs_background": "light"
     },
     "output_type": "display_data"
    }
   ],
   "source": [
    "# example plot\n",
    "filtered_data = data.loc[(data['lat_merc_x'] == 589993.30) &(data['lon_merc_x'] == 8489337.03)]\n",
    "\n",
    "plt.figure(figsize=(15,6))\n",
    "plt.plot_date(filtered_data['msgtime'],filtered_data['sog_mean'])"
   ]
  },
  {
   "cell_type": "code",
   "execution_count": 49,
   "id": "260e1b3b-e020-4ca5-b907-cd3436431c4d",
   "metadata": {},
   "outputs": [
    {
     "data": {
      "text/plain": [
       "<AxesSubplot:xlabel='aisclass_count'>"
      ]
     },
     "execution_count": 49,
     "metadata": {},
     "output_type": "execute_result"
    },
    {
     "data": {
      "image/png": "[encoded data removed]",
      "text/plain": [
       "<Figure size 432x288 with 1 Axes>"
      ]
     },
     "metadata": {
      "needs_background": "light"
     },
     "output_type": "display_data"
    }
   ],
   "source": [
    "# anzahl der bereiche die nur eine geringe anzahl von messungen haben\n",
    "meta = data[['lat_merc_x','lon_merc_x','aisclass_count']].groupby(['lat_merc_x','lon_merc_x']).sum().sort_values(['aisclass_count'],ascending=False).reset_index()\n",
    "meta[meta['aisclass_count'] < 200].groupby(['aisclass_count']).count().plot()"
   ]
  },
  {
   "cell_type": "markdown",
   "id": "cc38a5bd-cfe0-4e7f-bf1b-860a16ca4844",
   "metadata": {},
   "source": [
    "## create interactive visuals on aggregated data"
   ]
  },
  {
   "cell_type": "code",
   "execution_count": 50,
   "id": "89200071-980f-4c7a-8f7b-a4b2bfce4779",
   "metadata": {},
   "outputs": [
    {
     "data": {
      "text/html": [
       "<div>\n",
       "<style scoped>\n",
       "    .dataframe tbody tr th:only-of-type {\n",
       "        vertical-align: middle;\n",
       "    }\n",
       "\n",
       "    .dataframe tbody tr th {\n",
       "        vertical-align: top;\n",
       "    }\n",
       "\n",
       "    .dataframe thead th {\n",
       "        text-align: right;\n",
       "    }\n",
       "</style>\n",
       "<table border=\"1\" class=\"dataframe\">\n",
       "  <thead>\n",
       "    <tr style=\"text-align: right;\">\n",
       "      <th></th>\n",
       "      <th>aisclass_count</th>\n",
       "      <th>aisclass_count_l_hour</th>\n",
       "      <th>date</th>\n",
       "      <th>dow</th>\n",
       "      <th>hod</th>\n",
       "      <th>lat_merc_x</th>\n",
       "      <th>lat_merc_y</th>\n",
       "      <th>lon_merc_x</th>\n",
       "      <th>lon_merc_y</th>\n",
       "      <th>mmsi_nunique</th>\n",
       "      <th>mmsi_nunique_l_hour</th>\n",
       "      <th>msgtime</th>\n",
       "      <th>sog_max</th>\n",
       "      <th>sog_max_l_hour</th>\n",
       "      <th>sog_mean</th>\n",
       "      <th>sog_mean_l_hour</th>\n",
       "      <th>sog_min</th>\n",
       "      <th>sog_min_l_hour</th>\n",
       "      <th>sog_std</th>\n",
       "      <th>sog_std_l_hour</th>\n",
       "    </tr>\n",
       "  </thead>\n",
       "  <tbody>\n",
       "    <tr>\n",
       "      <th>0</th>\n",
       "      <td>1</td>\n",
       "      <td>0.00</td>\n",
       "      <td>2022-04-07</td>\n",
       "      <td>3</td>\n",
       "      <td>0</td>\n",
       "      <td>623389.15</td>\n",
       "      <td>623389.15</td>\n",
       "      <td>8202032.19</td>\n",
       "      <td>8202032.19</td>\n",
       "      <td>1</td>\n",
       "      <td>0.00</td>\n",
       "      <td>2022-04-07</td>\n",
       "      <td>1.10</td>\n",
       "      <td>0.00</td>\n",
       "      <td>1.10</td>\n",
       "      <td>0.00</td>\n",
       "      <td>1.10</td>\n",
       "      <td>0.00</td>\n",
       "      <td>0.00</td>\n",
       "      <td>0.00</td>\n",
       "    </tr>\n",
       "    <tr>\n",
       "      <th>1</th>\n",
       "      <td>1</td>\n",
       "      <td>0.00</td>\n",
       "      <td>2022-04-07</td>\n",
       "      <td>3</td>\n",
       "      <td>0</td>\n",
       "      <td>634521.10</td>\n",
       "      <td>634521.10</td>\n",
       "      <td>8267349.13</td>\n",
       "      <td>8267349.13</td>\n",
       "      <td>1</td>\n",
       "      <td>0.00</td>\n",
       "      <td>2022-04-07</td>\n",
       "      <td>0.00</td>\n",
       "      <td>0.00</td>\n",
       "      <td>0.00</td>\n",
       "      <td>0.00</td>\n",
       "      <td>0.00</td>\n",
       "      <td>0.00</td>\n",
       "      <td>0.00</td>\n",
       "      <td>0.00</td>\n",
       "    </tr>\n",
       "    <tr>\n",
       "      <th>2</th>\n",
       "      <td>1</td>\n",
       "      <td>0.00</td>\n",
       "      <td>2022-04-07</td>\n",
       "      <td>3</td>\n",
       "      <td>0</td>\n",
       "      <td>667916.94</td>\n",
       "      <td>667916.94</td>\n",
       "      <td>8267349.13</td>\n",
       "      <td>8267349.13</td>\n",
       "      <td>1</td>\n",
       "      <td>0.00</td>\n",
       "      <td>2022-04-07</td>\n",
       "      <td>0.00</td>\n",
       "      <td>0.00</td>\n",
       "      <td>0.00</td>\n",
       "      <td>0.00</td>\n",
       "      <td>0.00</td>\n",
       "      <td>0.00</td>\n",
       "      <td>0.00</td>\n",
       "      <td>0.00</td>\n",
       "    </tr>\n",
       "    <tr>\n",
       "      <th>3</th>\n",
       "      <td>1</td>\n",
       "      <td>0.00</td>\n",
       "      <td>2022-04-07</td>\n",
       "      <td>3</td>\n",
       "      <td>0</td>\n",
       "      <td>712444.74</td>\n",
       "      <td>712444.74</td>\n",
       "      <td>8311215.71</td>\n",
       "      <td>8311215.71</td>\n",
       "      <td>1</td>\n",
       "      <td>0.00</td>\n",
       "      <td>2022-04-07</td>\n",
       "      <td>0.00</td>\n",
       "      <td>0.00</td>\n",
       "      <td>0.00</td>\n",
       "      <td>0.00</td>\n",
       "      <td>0.00</td>\n",
       "      <td>0.00</td>\n",
       "      <td>0.00</td>\n",
       "      <td>0.00</td>\n",
       "    </tr>\n",
       "    <tr>\n",
       "      <th>4</th>\n",
       "      <td>1</td>\n",
       "      <td>0.00</td>\n",
       "      <td>2022-04-07</td>\n",
       "      <td>3</td>\n",
       "      <td>0</td>\n",
       "      <td>1135458.81</td>\n",
       "      <td>1135458.81</td>\n",
       "      <td>8333246.94</td>\n",
       "      <td>8333246.94</td>\n",
       "      <td>1</td>\n",
       "      <td>0.00</td>\n",
       "      <td>2022-04-07</td>\n",
       "      <td>0.00</td>\n",
       "      <td>0.00</td>\n",
       "      <td>0.00</td>\n",
       "      <td>0.00</td>\n",
       "      <td>0.00</td>\n",
       "      <td>0.00</td>\n",
       "      <td>0.00</td>\n",
       "      <td>0.00</td>\n",
       "    </tr>\n",
       "  </tbody>\n",
       "</table>\n",
       "</div>"
      ],
      "text/plain": [
       "   aisclass_count  aisclass_count_l_hour        date  dow  hod  lat_merc_x  \\\n",
       "0               1                   0.00  2022-04-07    3    0   623389.15   \n",
       "1               1                   0.00  2022-04-07    3    0   634521.10   \n",
       "2               1                   0.00  2022-04-07    3    0   667916.94   \n",
       "3               1                   0.00  2022-04-07    3    0   712444.74   \n",
       "4               1                   0.00  2022-04-07    3    0  1135458.81   \n",
       "\n",
       "   lat_merc_y  lon_merc_x  lon_merc_y  mmsi_nunique  mmsi_nunique_l_hour  \\\n",
       "0   623389.15  8202032.19  8202032.19             1                 0.00   \n",
       "1   634521.10  8267349.13  8267349.13             1                 0.00   \n",
       "2   667916.94  8267349.13  8267349.13             1                 0.00   \n",
       "3   712444.74  8311215.71  8311215.71             1                 0.00   \n",
       "4  1135458.81  8333246.94  8333246.94             1                 0.00   \n",
       "\n",
       "     msgtime  sog_max  sog_max_l_hour  sog_mean  sog_mean_l_hour  sog_min  \\\n",
       "0 2022-04-07     1.10            0.00      1.10             0.00     1.10   \n",
       "1 2022-04-07     0.00            0.00      0.00             0.00     0.00   \n",
       "2 2022-04-07     0.00            0.00      0.00             0.00     0.00   \n",
       "3 2022-04-07     0.00            0.00      0.00             0.00     0.00   \n",
       "4 2022-04-07     0.00            0.00      0.00             0.00     0.00   \n",
       "\n",
       "   sog_min_l_hour  sog_std  sog_std_l_hour  \n",
       "0            0.00     0.00            0.00  \n",
       "1            0.00     0.00            0.00  \n",
       "2            0.00     0.00            0.00  \n",
       "3            0.00     0.00            0.00  \n",
       "4            0.00     0.00            0.00  "
      ]
     },
     "execution_count": 50,
     "metadata": {},
     "output_type": "execute_result"
    }
   ],
   "source": [
    "data.head()"
   ]
  },
  {
   "cell_type": "code",
   "execution_count": 51,
   "id": "4402f208-9ca7-4996-992f-0fa3f65ee0fd",
   "metadata": {},
   "outputs": [],
   "source": [
    "\n",
    "visual_df = data[['lat_merc_x','lon_merc_x','msgtime','mmsi_nunique']]\n"
   ]
  },
  {
   "cell_type": "code",
   "execution_count": 52,
   "id": "22a210ae-46a2-488d-a7b5-770e2502cd25",
   "metadata": {},
   "outputs": [
    {
     "data": {
      "text/html": [
       "<div>\n",
       "<style scoped>\n",
       "    .dataframe tbody tr th:only-of-type {\n",
       "        vertical-align: middle;\n",
       "    }\n",
       "\n",
       "    .dataframe tbody tr th {\n",
       "        vertical-align: top;\n",
       "    }\n",
       "\n",
       "    .dataframe thead th {\n",
       "        text-align: right;\n",
       "    }\n",
       "</style>\n",
       "<table border=\"1\" class=\"dataframe\">\n",
       "  <thead>\n",
       "    <tr style=\"text-align: right;\">\n",
       "      <th></th>\n",
       "      <th>lat_merc_x</th>\n",
       "      <th>lon_merc_x</th>\n",
       "      <th>msgtime</th>\n",
       "      <th>mmsi_nunique</th>\n",
       "    </tr>\n",
       "  </thead>\n",
       "  <tbody>\n",
       "    <tr>\n",
       "      <th>0</th>\n",
       "      <td>623389.15</td>\n",
       "      <td>8202032.19</td>\n",
       "      <td>2022-04-07</td>\n",
       "      <td>1</td>\n",
       "    </tr>\n",
       "    <tr>\n",
       "      <th>1</th>\n",
       "      <td>634521.10</td>\n",
       "      <td>8267349.13</td>\n",
       "      <td>2022-04-07</td>\n",
       "      <td>1</td>\n",
       "    </tr>\n",
       "    <tr>\n",
       "      <th>2</th>\n",
       "      <td>667916.94</td>\n",
       "      <td>8267349.13</td>\n",
       "      <td>2022-04-07</td>\n",
       "      <td>1</td>\n",
       "    </tr>\n",
       "    <tr>\n",
       "      <th>3</th>\n",
       "      <td>712444.74</td>\n",
       "      <td>8311215.71</td>\n",
       "      <td>2022-04-07</td>\n",
       "      <td>1</td>\n",
       "    </tr>\n",
       "    <tr>\n",
       "      <th>4</th>\n",
       "      <td>1135458.81</td>\n",
       "      <td>8333246.94</td>\n",
       "      <td>2022-04-07</td>\n",
       "      <td>1</td>\n",
       "    </tr>\n",
       "  </tbody>\n",
       "</table>\n",
       "</div>"
      ],
      "text/plain": [
       "   lat_merc_x  lon_merc_x    msgtime  mmsi_nunique\n",
       "0   623389.15  8202032.19 2022-04-07             1\n",
       "1   634521.10  8267349.13 2022-04-07             1\n",
       "2   667916.94  8267349.13 2022-04-07             1\n",
       "3   712444.74  8311215.71 2022-04-07             1\n",
       "4  1135458.81  8333246.94 2022-04-07             1"
      ]
     },
     "execution_count": 52,
     "metadata": {},
     "output_type": "execute_result"
    }
   ],
   "source": [
    "visual_df.head()"
   ]
  },
  {
   "cell_type": "code",
   "execution_count": 100,
   "id": "56870623-e318-4a62-abf2-9e5f8b9396fd",
   "metadata": {},
   "outputs": [],
   "source": [
    "output_file(\"visuals_base.html\")\n",
    "visual = visual_df[['lat_merc_x','lon_merc_x','mmsi_nunique']][visual_df['msgtime'] == '2022-04-17 11:20:00']\n",
    "p = visualize_top_regions(visual)\n",
    "show(p)"
   ]
  },
  {
   "cell_type": "code",
   "execution_count": 101,
   "id": "30267055-303a-4c2a-9de8-88626d1e107a",
   "metadata": {},
   "outputs": [
    {
     "data": {
      "text/html": [
       "<div>\n",
       "<style scoped>\n",
       "    .dataframe tbody tr th:only-of-type {\n",
       "        vertical-align: middle;\n",
       "    }\n",
       "\n",
       "    .dataframe tbody tr th {\n",
       "        vertical-align: top;\n",
       "    }\n",
       "\n",
       "    .dataframe thead th {\n",
       "        text-align: right;\n",
       "    }\n",
       "</style>\n",
       "<table border=\"1\" class=\"dataframe\">\n",
       "  <thead>\n",
       "    <tr style=\"text-align: right;\">\n",
       "      <th></th>\n",
       "      <th>lat_merc_x</th>\n",
       "      <th>lon_merc_x</th>\n",
       "      <th>mmsi_nunique</th>\n",
       "    </tr>\n",
       "  </thead>\n",
       "  <tbody>\n",
       "    <tr>\n",
       "      <th>6206612</th>\n",
       "      <td>589993.30</td>\n",
       "      <td>8489337.03</td>\n",
       "      <td>55</td>\n",
       "    </tr>\n",
       "    <tr>\n",
       "      <th>6197947</th>\n",
       "      <td>2115070.33</td>\n",
       "      <td>10971767.97</td>\n",
       "      <td>39</td>\n",
       "    </tr>\n",
       "    <tr>\n",
       "      <th>6191843</th>\n",
       "      <td>634521.10</td>\n",
       "      <td>8180386.89</td>\n",
       "      <td>34</td>\n",
       "    </tr>\n",
       "    <tr>\n",
       "      <th>6186999</th>\n",
       "      <td>857160.08</td>\n",
       "      <td>9124813.24</td>\n",
       "      <td>31</td>\n",
       "    </tr>\n",
       "    <tr>\n",
       "      <th>6183964</th>\n",
       "      <td>1191118.55</td>\n",
       "      <td>8377507.56</td>\n",
       "      <td>27</td>\n",
       "    </tr>\n",
       "    <tr>\n",
       "      <th>...</th>\n",
       "      <td>...</td>\n",
       "      <td>...</td>\n",
       "      <td>...</td>\n",
       "    </tr>\n",
       "    <tr>\n",
       "      <th>1797648</th>\n",
       "      <td>1424889.48</td>\n",
       "      <td>10242060.79</td>\n",
       "      <td>1</td>\n",
       "    </tr>\n",
       "    <tr>\n",
       "      <th>1797657</th>\n",
       "      <td>1525077.02</td>\n",
       "      <td>10299995.50</td>\n",
       "      <td>1</td>\n",
       "    </tr>\n",
       "    <tr>\n",
       "      <th>1797664</th>\n",
       "      <td>1569604.82</td>\n",
       "      <td>10184607.52</td>\n",
       "      <td>1</td>\n",
       "    </tr>\n",
       "    <tr>\n",
       "      <th>1797666</th>\n",
       "      <td>1580736.77</td>\n",
       "      <td>10213274.52</td>\n",
       "      <td>1</td>\n",
       "    </tr>\n",
       "    <tr>\n",
       "      <th>2989548</th>\n",
       "      <td>3428640.32</td>\n",
       "      <td>11266869.62</td>\n",
       "      <td>1</td>\n",
       "    </tr>\n",
       "  </tbody>\n",
       "</table>\n",
       "<p>1028 rows × 3 columns</p>\n",
       "</div>"
      ],
      "text/plain": [
       "         lat_merc_x  lon_merc_x  mmsi_nunique\n",
       "6206612   589993.30  8489337.03            55\n",
       "6197947  2115070.33 10971767.97            39\n",
       "6191843   634521.10  8180386.89            34\n",
       "6186999   857160.08  9124813.24            31\n",
       "6183964  1191118.55  8377507.56            27\n",
       "...             ...         ...           ...\n",
       "1797648  1424889.48 10242060.79             1\n",
       "1797657  1525077.02 10299995.50             1\n",
       "1797664  1569604.82 10184607.52             1\n",
       "1797666  1580736.77 10213274.52             1\n",
       "2989548  3428640.32 11266869.62             1\n",
       "\n",
       "[1028 rows x 3 columns]"
      ]
     },
     "execution_count": 101,
     "metadata": {},
     "output_type": "execute_result"
    }
   ],
   "source": [
    "visual_df[['lat_merc_x','lon_merc_x','mmsi_nunique']][visual_df['msgtime'] == '2022-04-17 11:20:00'].sort_values('mmsi_nunique',ascending=False)"
   ]
  },
  {
   "cell_type": "markdown",
   "id": "771d2d59-ba8f-44de-b51f-560409a5ed69",
   "metadata": {},
   "source": [
    "## visualize avg. number of ships per day of week"
   ]
  },
  {
   "cell_type": "code",
   "execution_count": 106,
   "id": "25ce4fa9-e0c6-4043-b080-d4e998a36f8f",
   "metadata": {},
   "outputs": [
    {
     "name": "stdout",
     "output_type": "stream",
     "text": [
      "         dow  lat_merc_x  lon_merc_x  mmsi_nunique\n",
      "0     Monday   589993.30  8489337.03         43.07\n",
      "1    Tuesday   589993.30  8489337.03         44.35\n",
      "2  Wednesday   589993.30  8489337.03         43.63\n",
      "3   Thursday   589993.30  8489337.03         41.66\n",
      "4     Friday   589993.30  8489337.03         43.16\n",
      "5   Saturday   589993.30  8489337.03         48.32\n",
      "6     Sunday   589993.30  8489337.03         44.70\n"
     ]
    }
   ],
   "source": [
    "output_file(\"visuals_dow.html\")\n",
    "visual = data[['lat_merc_x', 'lon_merc_x','mmsi_nunique','dow']][(visual_df['lat_merc_x'] == 589993.30) & (visual_df['lon_merc_x'] == 8489337.03)]\n",
    "visual = visual.groupby(['dow']).mean().reset_index()\n",
    "# create timeline visual\n",
    "visual.head()\n",
    "p = bar_chart(visual)\n",
    "show(p)"
   ]
  },
  {
   "cell_type": "markdown",
   "id": "774b0a6a-d260-4379-a9d9-e672f2ec536f",
   "metadata": {},
   "source": [
    "## visualize avf number of ships per hour of day"
   ]
  },
  {
   "cell_type": "code",
   "execution_count": null,
   "id": "84665554-282b-45e4-91bc-d8c20ce776b7",
   "metadata": {},
   "outputs": [],
   "source": [
    "output_file(\"visuals_hod.html\")"
   ]
  },
  {
   "cell_type": "markdown",
   "id": "4338d337-89aa-4e57-86f0-bf10aa071a85",
   "metadata": {},
   "source": [
    "## weitere visualisierungsideen\n",
    "\n",
    "* time line von ausgewählten standorten zu den verschiedenen dimensionen\n",
    "* weitere feature Ideen:\n",
    "  * abbildung der werte für den aktuellen Zeitpunkt aus der Vergangenheit -> ermöglicht die Abbildung der zeitlichen Entwicklung als Feature\n",
    "* Mögliche Algorithemn ( neues NB):\n",
    "  * Isolation Forest\n",
    "  * DB Scan\n",
    "  * k-NN\n",
    "  * Local Outlier Factory"
   ]
  },
  {
   "cell_type": "code",
   "execution_count": null,
   "id": "dd3baa3d-8829-49de-a573-a5beb4352f1a",
   "metadata": {},
   "outputs": [],
   "source": []
  }
 ],
 "metadata": {
  "kernelspec": {
   "display_name": "Python 3",
   "language": "python",
   "name": "python3"
  },
  "language_info": {
   "codemirror_mode": {
    "name": "ipython",
    "version": 3
   },
   "file_extension": ".py",
   "mimetype": "text/x-python",
   "name": "python",
   "nbconvert_exporter": "python",
   "pygments_lexer": "ipython3",
   "version": "3.8.8"
  }
 },
 "nbformat": 4,
 "nbformat_minor": 5
}
