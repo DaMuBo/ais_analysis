{
 "cells": [
  {
   "cell_type": "markdown",
   "id": "03f186e2-2a77-44d6-876c-41230f6a7262",
   "metadata": {},
   "source": [
    "# 04_first_visuals\n",
    "Developing first steps to an anomaly detection algorithm with visualisations\n"
   ]
  },
  {
   "cell_type": "markdown",
   "id": "507705dc-f042-46f9-9e08-42adbb90e523",
   "metadata": {},
   "source": [
    "## Import packages"
   ]
  },
  {
   "cell_type": "code",
   "execution_count": 1,
   "id": "8704dd0d-f840-4dde-9adf-be8c2a577687",
   "metadata": {},
   "outputs": [],
   "source": [
    "import sys\n",
    "import os\n",
    "\n",
    "import yaml\n",
    "import pandas as pd\n",
    "import numpy as np\n",
    "from sqlalchemy import create_engine\n",
    "\n",
    "import seaborn as sns\n",
    "import matplotlib.pyplot as plt\n",
    "\n",
    "from bokeh.plotting import figure,save, output_file, show\n",
    "from bokeh.tile_providers import CARTODBPOSITRON, get_provider\n",
    "from bokeh.models import ColumnDataSource\n",
    "\n",
    "from sklearn.preprocessing import MinMaxScaler\n",
    "\n",
    "from functions.utils import get_folder\n",
    "from functions.data_loads import get_columns, load_data\n",
    "\n",
    "\n",
    "pd.set_option('display.float_format', '{:.2f}'.format)\n",
    "\n",
    "curr_folder = get_folder()\n",
    "parent_fold = curr_folder.parent\n",
    "with open(parent_fold / \"connections.yml\", encoding='utf-8') as file:\n",
    "    db_config = yaml.safe_load(file)\n",
    "    \n",
    "with open(parent_fold / \"configurations\" / \"data_loads.yaml\", encoding='utf-8') as file:\n",
    "    column_conf = yaml.safe_load(file)\n",
    "    \n",
    "engine = create_engine(f'postgresql+psycopg2://{db_config[\"user\"]}:{db_config[\"password\"]}@{db_config[\"host\"]}:{db_config[\"port\"]}/{db_config[\"db\"]}')\n",
    "\n",
    "dates = [\"01.05.2022\",\"05.05.2022\"]"
   ]
  },
  {
   "cell_type": "markdown",
   "id": "5a004fcf-756a-45da-9770-3f6c7484d1d9",
   "metadata": {},
   "source": [
    "## define functions"
   ]
  },
  {
   "cell_type": "code",
   "execution_count": 52,
   "id": "1d34643f-3a03-491d-9d1c-d33d8a65bcbc",
   "metadata": {},
   "outputs": [],
   "source": [
    "def x_coord(x,y):\n",
    "    \"\"\"\n",
    "    This function is transforming the correct coordinates for visualising the data points on a 2D Plot\n",
    "    \"\"\"\n",
    "    lat = float(x)\n",
    "    lon = float(y)\n",
    "    \n",
    "    r_major = 6378137.000\n",
    "    x = r_major * np.radians(lon)\n",
    "    scale = x/lon\n",
    "    y = 180.0/np.pi * np.log(np.tan(np.pi/4.0 + \n",
    "        lat * (np.pi/180.0)/2.0)) * scale\n",
    "    return (x, y)\n",
    "\n",
    "#output_file(\"visuals.html\")\n",
    "\n",
    "#tile_provider = get_provider(CARTODBPOSITRON)\n",
    "#visual_df[['lat','lon']] = visual_df[['lat','lon']].apply(lambda x:x_coord(x['lat'],x['lon']),axis = 1, result_type='expand')\n",
    "#visual_df[['lat','lon']] = [x_coord(x, y) for x, y in visual_df[['lat','lon']].values.tolist()]\n",
    "#visual = visual_df[['lat', 'lon','mmsi_nunique']][visual_df['msgtime'] == '2022-04-17 11:20:00']\n",
    "\n",
    "# build your plotty\n",
    "#p = figure(title=\"My first interactive plot!\", plot_width=800, plot_height=700,\n",
    "#           x_range=(1500000, 1700000), y_range=(7000000, 12000000),\n",
    "#           x_axis_type=\"mercator\", y_axis_type=\"mercator\")\n",
    "#p.add_tile(tile_provider)\n",
    "\n",
    "# hier nochmal schauen wie die Größe in Abhängigkeit der anzabl an schiffen zu dem zeitpunkt gemessen werden kann\n",
    "#p.circle(x=visual['lat'], y=visual['lon'], size=visual['mmsi_nunique'], color=\"red\")\n",
    "#p.circle(x=visual['lat'], y=visual['lon'], size=5, color=\"red\")\n",
    "\n",
    "#show(p)\n",
    "\n",
    "def visualize_top_regions(data,columns={'lat':'lat','lon':'lon','size':'mmsi_nunique'}):\n",
    "    \"\"\"\n",
    "    This function creates a plot which visualises the top regions in norway\n",
    "    \"\"\"\n",
    "    tile_provider = get_provider(CARTODBPOSITRON)\n",
    "    \n",
    "    MinMax = MinMaxScaler(feature_range=(1,20))\n",
    "    data[columns['size']] = MinMax.fit_transform(data[columns['size']])\n",
    "    \n",
    "    p = figure(title=\"Most Busy Regions in Norway\", plot_width=800, plot_height=700,\n",
    "           x_range=(1500000, 1700000), y_range=(7000000, 12000000),\n",
    "           x_axis_type=\"mercator\", y_axis_type=\"mercator\")\n",
    "    p.add_tile(tile_provider)\n",
    "    p.circle(x=data[columns['lat']], y=data[columns['lon']], size=data[columns['size']], color=\"red\", fill_alpha=0.5)\n",
    "    return p\n",
    "    "
   ]
  },
  {
   "cell_type": "code",
   "execution_count": 3,
   "id": "1d749619-8725-4e50-92d1-a4a18838ee8d",
   "metadata": {},
   "outputs": [
    {
     "name": "stdout",
     "output_type": "stream",
     "text": [
      "['aisclass_count', 'courseoverground_max', 'courseoverground_mean', 'courseoverground_min', 'lat_lon', 'mmsi_nunique', 'msgtime', 'rateofturn_max', 'rateofturn_mean', 'rateofturn_min', 'sog_max', 'sog_mean', 'sog_min', 'trueheading_max', 'trueheading_mean', 'trueheading_min']\n"
     ]
    }
   ],
   "source": [
    "columns = get_columns(engine,'tbl_positionagg',column_conf['position_unrel_cols'])\n",
    "print(columns)\n",
    "data = load_data(engine,'tbl_positionagg',columns)"
   ]
  },
  {
   "cell_type": "code",
   "execution_count": 4,
   "id": "5c75e2f6-e67d-4c4b-821a-432ab314d4c2",
   "metadata": {},
   "outputs": [
    {
     "data": {
      "text/html": [
       "<div>\n",
       "<style scoped>\n",
       "    .dataframe tbody tr th:only-of-type {\n",
       "        vertical-align: middle;\n",
       "    }\n",
       "\n",
       "    .dataframe tbody tr th {\n",
       "        vertical-align: top;\n",
       "    }\n",
       "\n",
       "    .dataframe thead th {\n",
       "        text-align: right;\n",
       "    }\n",
       "</style>\n",
       "<table border=\"1\" class=\"dataframe\">\n",
       "  <thead>\n",
       "    <tr style=\"text-align: right;\">\n",
       "      <th></th>\n",
       "      <th>aisclass_count</th>\n",
       "    </tr>\n",
       "    <tr>\n",
       "      <th>lat_lon</th>\n",
       "      <th></th>\n",
       "    </tr>\n",
       "  </thead>\n",
       "  <tbody>\n",
       "    <tr>\n",
       "      <th>60.4,5.3</th>\n",
       "      <td>294794</td>\n",
       "    </tr>\n",
       "    <tr>\n",
       "      <th>59.0,5.7</th>\n",
       "      <td>252853</td>\n",
       "    </tr>\n",
       "    <tr>\n",
       "      <th>69.7,19.0</th>\n",
       "      <td>218837</td>\n",
       "    </tr>\n",
       "    <tr>\n",
       "      <th>59.9,10.7</th>\n",
       "      <td>205164</td>\n",
       "    </tr>\n",
       "    <tr>\n",
       "      <th>63.1,7.7</th>\n",
       "      <td>181595</td>\n",
       "    </tr>\n",
       "    <tr>\n",
       "      <th>...</th>\n",
       "      <td>...</td>\n",
       "    </tr>\n",
       "    <tr>\n",
       "      <th>72.6,25.5</th>\n",
       "      <td>1</td>\n",
       "    </tr>\n",
       "    <tr>\n",
       "      <th>72.6,25.6</th>\n",
       "      <td>1</td>\n",
       "    </tr>\n",
       "    <tr>\n",
       "      <th>72.6,26.1</th>\n",
       "      <td>1</td>\n",
       "    </tr>\n",
       "    <tr>\n",
       "      <th>72.6,26.3</th>\n",
       "      <td>1</td>\n",
       "    </tr>\n",
       "    <tr>\n",
       "      <th>81.0,13.8</th>\n",
       "      <td>1</td>\n",
       "    </tr>\n",
       "  </tbody>\n",
       "</table>\n",
       "<p>20108 rows × 1 columns</p>\n",
       "</div>"
      ],
      "text/plain": [
       "           aisclass_count\n",
       "lat_lon                  \n",
       "60.4,5.3           294794\n",
       "59.0,5.7           252853\n",
       "69.7,19.0          218837\n",
       "59.9,10.7          205164\n",
       "63.1,7.7           181595\n",
       "...                   ...\n",
       "72.6,25.5               1\n",
       "72.6,25.6               1\n",
       "72.6,26.1               1\n",
       "72.6,26.3               1\n",
       "81.0,13.8               1\n",
       "\n",
       "[20108 rows x 1 columns]"
      ]
     },
     "execution_count": 4,
     "metadata": {},
     "output_type": "execute_result"
    }
   ],
   "source": [
    "data[['lat_lon','aisclass_count']].groupby(['lat_lon']).sum().sort_values(['aisclass_count'],ascending=False)"
   ]
  },
  {
   "cell_type": "code",
   "execution_count": 5,
   "id": "59bfddea-117d-410a-a39c-a250c71bf768",
   "metadata": {},
   "outputs": [],
   "source": [
    "data['msgtime'] = pd.to_datetime(data['msgtime'])"
   ]
  },
  {
   "cell_type": "markdown",
   "id": "5564e763-5750-4888-a7ec-61b4b8b3e764",
   "metadata": {},
   "source": [
    "## test data set"
   ]
  },
  {
   "cell_type": "code",
   "execution_count": 6,
   "id": "36fb7785-d76c-43e3-8adc-00c8ac8713a7",
   "metadata": {},
   "outputs": [
    {
     "data": {
      "text/plain": [
       "[<matplotlib.lines.Line2D at 0x240f72d2fd0>]"
      ]
     },
     "execution_count": 6,
     "metadata": {},
     "output_type": "execute_result"
    },
    {
     "data": {
      "image/png": "[encoded data removed]",
      "text/plain": [
       "<Figure size 1080x432 with 1 Axes>"
      ]
     },
     "metadata": {
      "needs_background": "light"
     },
     "output_type": "display_data"
    }
   ],
   "source": [
    "# example plot\n",
    "filtered_data = data[data['lat_lon'] == '63.1,7.7']\n",
    "\n",
    "plt.figure(figsize=(15,6))\n",
    "plt.plot_date(filtered_data['msgtime'],filtered_data['sog_mean'])"
   ]
  },
  {
   "cell_type": "code",
   "execution_count": 7,
   "id": "b95c9688-4344-4129-9e3a-bfa78514b067",
   "metadata": {},
   "outputs": [],
   "source": [
    "meta = data[['lat_lon','aisclass_count']].groupby(['lat_lon']).sum().sort_values(['aisclass_count'],ascending=False).reset_index()"
   ]
  },
  {
   "cell_type": "code",
   "execution_count": 8,
   "id": "260e1b3b-e020-4ca5-b907-cd3436431c4d",
   "metadata": {},
   "outputs": [
    {
     "data": {
      "text/plain": [
       "<AxesSubplot:xlabel='aisclass_count'>"
      ]
     },
     "execution_count": 8,
     "metadata": {},
     "output_type": "execute_result"
    },
    {
     "data": {
      "image/png": "[encoded data removed]",
      "text/plain": [
       "<Figure size 432x288 with 1 Axes>"
      ]
     },
     "metadata": {
      "needs_background": "light"
     },
     "output_type": "display_data"
    }
   ],
   "source": [
    "# anzahl der bereiche die nur eine geringe anzahl von messungen haben\n",
    "meta[meta['aisclass_count'] < 200].groupby(['aisclass_count']).count().plot()"
   ]
  },
  {
   "cell_type": "markdown",
   "id": "cc38a5bd-cfe0-4e7f-bf1b-860a16ca4844",
   "metadata": {},
   "source": [
    "## create interactive visuals on aggregated data"
   ]
  },
  {
   "cell_type": "code",
   "execution_count": 9,
   "id": "89200071-980f-4c7a-8f7b-a4b2bfce4779",
   "metadata": {},
   "outputs": [
    {
     "data": {
      "text/html": [
       "<div>\n",
       "<style scoped>\n",
       "    .dataframe tbody tr th:only-of-type {\n",
       "        vertical-align: middle;\n",
       "    }\n",
       "\n",
       "    .dataframe tbody tr th {\n",
       "        vertical-align: top;\n",
       "    }\n",
       "\n",
       "    .dataframe thead th {\n",
       "        text-align: right;\n",
       "    }\n",
       "</style>\n",
       "<table border=\"1\" class=\"dataframe\">\n",
       "  <thead>\n",
       "    <tr style=\"text-align: right;\">\n",
       "      <th></th>\n",
       "      <th>aisclass_count</th>\n",
       "      <th>courseoverground_max</th>\n",
       "      <th>courseoverground_mean</th>\n",
       "      <th>courseoverground_min</th>\n",
       "      <th>lat_lon</th>\n",
       "      <th>mmsi_nunique</th>\n",
       "      <th>msgtime</th>\n",
       "      <th>rateofturn_max</th>\n",
       "      <th>rateofturn_mean</th>\n",
       "      <th>rateofturn_min</th>\n",
       "      <th>sog_max</th>\n",
       "      <th>sog_mean</th>\n",
       "      <th>sog_min</th>\n",
       "      <th>trueheading_max</th>\n",
       "      <th>trueheading_mean</th>\n",
       "      <th>trueheading_min</th>\n",
       "    </tr>\n",
       "  </thead>\n",
       "  <tbody>\n",
       "    <tr>\n",
       "      <th>0</th>\n",
       "      <td>1</td>\n",
       "      <td>0.00</td>\n",
       "      <td>0.00</td>\n",
       "      <td>0.00</td>\n",
       "      <td>56.6,3.3</td>\n",
       "      <td>1</td>\n",
       "      <td>2022-04-17 11:20:00</td>\n",
       "      <td>0.00</td>\n",
       "      <td>0.00</td>\n",
       "      <td>0.00</td>\n",
       "      <td>0.05</td>\n",
       "      <td>0.05</td>\n",
       "      <td>0.05</td>\n",
       "      <td>0.00</td>\n",
       "      <td>0.00</td>\n",
       "      <td>0.00</td>\n",
       "    </tr>\n",
       "    <tr>\n",
       "      <th>1</th>\n",
       "      <td>1</td>\n",
       "      <td>0.00</td>\n",
       "      <td>0.00</td>\n",
       "      <td>0.00</td>\n",
       "      <td>56.6,3.3</td>\n",
       "      <td>1</td>\n",
       "      <td>2022-04-17 12:30:00</td>\n",
       "      <td>0.00</td>\n",
       "      <td>0.00</td>\n",
       "      <td>0.00</td>\n",
       "      <td>0.00</td>\n",
       "      <td>0.00</td>\n",
       "      <td>0.00</td>\n",
       "      <td>0.00</td>\n",
       "      <td>0.00</td>\n",
       "      <td>0.00</td>\n",
       "    </tr>\n",
       "    <tr>\n",
       "      <th>2</th>\n",
       "      <td>1</td>\n",
       "      <td>0.00</td>\n",
       "      <td>0.00</td>\n",
       "      <td>0.00</td>\n",
       "      <td>56.6,3.3</td>\n",
       "      <td>1</td>\n",
       "      <td>2022-04-17 12:50:00</td>\n",
       "      <td>0.00</td>\n",
       "      <td>0.00</td>\n",
       "      <td>0.00</td>\n",
       "      <td>0.00</td>\n",
       "      <td>0.00</td>\n",
       "      <td>0.00</td>\n",
       "      <td>0.00</td>\n",
       "      <td>0.00</td>\n",
       "      <td>0.00</td>\n",
       "    </tr>\n",
       "    <tr>\n",
       "      <th>3</th>\n",
       "      <td>1</td>\n",
       "      <td>0.00</td>\n",
       "      <td>0.00</td>\n",
       "      <td>0.00</td>\n",
       "      <td>56.6,3.3</td>\n",
       "      <td>1</td>\n",
       "      <td>2022-04-17 13:00:00</td>\n",
       "      <td>0.00</td>\n",
       "      <td>0.00</td>\n",
       "      <td>0.00</td>\n",
       "      <td>0.00</td>\n",
       "      <td>0.00</td>\n",
       "      <td>0.00</td>\n",
       "      <td>0.00</td>\n",
       "      <td>0.00</td>\n",
       "      <td>0.00</td>\n",
       "    </tr>\n",
       "    <tr>\n",
       "      <th>4</th>\n",
       "      <td>1</td>\n",
       "      <td>0.00</td>\n",
       "      <td>0.00</td>\n",
       "      <td>0.00</td>\n",
       "      <td>56.6,3.3</td>\n",
       "      <td>1</td>\n",
       "      <td>2022-04-17 13:50:00</td>\n",
       "      <td>0.00</td>\n",
       "      <td>0.00</td>\n",
       "      <td>0.00</td>\n",
       "      <td>0.00</td>\n",
       "      <td>0.00</td>\n",
       "      <td>0.00</td>\n",
       "      <td>0.00</td>\n",
       "      <td>0.00</td>\n",
       "      <td>0.00</td>\n",
       "    </tr>\n",
       "  </tbody>\n",
       "</table>\n",
       "</div>"
      ],
      "text/plain": [
       "   aisclass_count  courseoverground_max  courseoverground_mean  \\\n",
       "0               1                  0.00                   0.00   \n",
       "1               1                  0.00                   0.00   \n",
       "2               1                  0.00                   0.00   \n",
       "3               1                  0.00                   0.00   \n",
       "4               1                  0.00                   0.00   \n",
       "\n",
       "   courseoverground_min   lat_lon  mmsi_nunique             msgtime  \\\n",
       "0                  0.00  56.6,3.3             1 2022-04-17 11:20:00   \n",
       "1                  0.00  56.6,3.3             1 2022-04-17 12:30:00   \n",
       "2                  0.00  56.6,3.3             1 2022-04-17 12:50:00   \n",
       "3                  0.00  56.6,3.3             1 2022-04-17 13:00:00   \n",
       "4                  0.00  56.6,3.3             1 2022-04-17 13:50:00   \n",
       "\n",
       "   rateofturn_max  rateofturn_mean  rateofturn_min  sog_max  sog_mean  \\\n",
       "0            0.00             0.00            0.00     0.05      0.05   \n",
       "1            0.00             0.00            0.00     0.00      0.00   \n",
       "2            0.00             0.00            0.00     0.00      0.00   \n",
       "3            0.00             0.00            0.00     0.00      0.00   \n",
       "4            0.00             0.00            0.00     0.00      0.00   \n",
       "\n",
       "   sog_min  trueheading_max  trueheading_mean  trueheading_min  \n",
       "0     0.05             0.00              0.00             0.00  \n",
       "1     0.00             0.00              0.00             0.00  \n",
       "2     0.00             0.00              0.00             0.00  \n",
       "3     0.00             0.00              0.00             0.00  \n",
       "4     0.00             0.00              0.00             0.00  "
      ]
     },
     "execution_count": 9,
     "metadata": {},
     "output_type": "execute_result"
    }
   ],
   "source": [
    "data.head()"
   ]
  },
  {
   "cell_type": "code",
   "execution_count": 36,
   "id": "4402f208-9ca7-4996-992f-0fa3f65ee0fd",
   "metadata": {},
   "outputs": [],
   "source": [
    "data[['lat','lon']] = data['lat_lon'].str.split(',', 1, expand=True)#.apply(lambda x : x.split(',')\n",
    "visual_df = data[['lat','lon','msgtime','mmsi_nunique']]"
   ]
  },
  {
   "cell_type": "code",
   "execution_count": 37,
   "id": "22a210ae-46a2-488d-a7b5-770e2502cd25",
   "metadata": {},
   "outputs": [
    {
     "data": {
      "text/html": [
       "<div>\n",
       "<style scoped>\n",
       "    .dataframe tbody tr th:only-of-type {\n",
       "        vertical-align: middle;\n",
       "    }\n",
       "\n",
       "    .dataframe tbody tr th {\n",
       "        vertical-align: top;\n",
       "    }\n",
       "\n",
       "    .dataframe thead th {\n",
       "        text-align: right;\n",
       "    }\n",
       "</style>\n",
       "<table border=\"1\" class=\"dataframe\">\n",
       "  <thead>\n",
       "    <tr style=\"text-align: right;\">\n",
       "      <th></th>\n",
       "      <th>lat</th>\n",
       "      <th>lon</th>\n",
       "      <th>msgtime</th>\n",
       "      <th>mmsi_nunique</th>\n",
       "    </tr>\n",
       "  </thead>\n",
       "  <tbody>\n",
       "    <tr>\n",
       "      <th>0</th>\n",
       "      <td>56.6</td>\n",
       "      <td>3.3</td>\n",
       "      <td>2022-04-17 11:20:00</td>\n",
       "      <td>1</td>\n",
       "    </tr>\n",
       "    <tr>\n",
       "      <th>1</th>\n",
       "      <td>56.6</td>\n",
       "      <td>3.3</td>\n",
       "      <td>2022-04-17 12:30:00</td>\n",
       "      <td>1</td>\n",
       "    </tr>\n",
       "    <tr>\n",
       "      <th>2</th>\n",
       "      <td>56.6</td>\n",
       "      <td>3.3</td>\n",
       "      <td>2022-04-17 12:50:00</td>\n",
       "      <td>1</td>\n",
       "    </tr>\n",
       "    <tr>\n",
       "      <th>3</th>\n",
       "      <td>56.6</td>\n",
       "      <td>3.3</td>\n",
       "      <td>2022-04-17 13:00:00</td>\n",
       "      <td>1</td>\n",
       "    </tr>\n",
       "    <tr>\n",
       "      <th>4</th>\n",
       "      <td>56.6</td>\n",
       "      <td>3.3</td>\n",
       "      <td>2022-04-17 13:50:00</td>\n",
       "      <td>1</td>\n",
       "    </tr>\n",
       "  </tbody>\n",
       "</table>\n",
       "</div>"
      ],
      "text/plain": [
       "    lat  lon             msgtime  mmsi_nunique\n",
       "0  56.6  3.3 2022-04-17 11:20:00             1\n",
       "1  56.6  3.3 2022-04-17 12:30:00             1\n",
       "2  56.6  3.3 2022-04-17 12:50:00             1\n",
       "3  56.6  3.3 2022-04-17 13:00:00             1\n",
       "4  56.6  3.3 2022-04-17 13:50:00             1"
      ]
     },
     "execution_count": 37,
     "metadata": {},
     "output_type": "execute_result"
    }
   ],
   "source": [
    "visual_df.head()"
   ]
  },
  {
   "cell_type": "code",
   "execution_count": 49,
   "id": "3c37b84d-cc06-42aa-8526-63eb128e3760",
   "metadata": {},
   "outputs": [
    {
     "data": {
      "text/html": [
       "<div>\n",
       "<style scoped>\n",
       "    .dataframe tbody tr th:only-of-type {\n",
       "        vertical-align: middle;\n",
       "    }\n",
       "\n",
       "    .dataframe tbody tr th {\n",
       "        vertical-align: top;\n",
       "    }\n",
       "\n",
       "    .dataframe thead th {\n",
       "        text-align: right;\n",
       "    }\n",
       "</style>\n",
       "<table border=\"1\" class=\"dataframe\">\n",
       "  <thead>\n",
       "    <tr style=\"text-align: right;\">\n",
       "      <th></th>\n",
       "      <th>lat</th>\n",
       "      <th>lon</th>\n",
       "      <th>msgtime</th>\n",
       "      <th>mmsi_nunique</th>\n",
       "    </tr>\n",
       "  </thead>\n",
       "  <tbody>\n",
       "    <tr>\n",
       "      <th>0</th>\n",
       "      <td>56.6</td>\n",
       "      <td>3.3</td>\n",
       "      <td>2022-04-17 11:20:00</td>\n",
       "      <td>1</td>\n",
       "    </tr>\n",
       "    <tr>\n",
       "      <th>1</th>\n",
       "      <td>56.6</td>\n",
       "      <td>3.3</td>\n",
       "      <td>2022-04-17 12:30:00</td>\n",
       "      <td>1</td>\n",
       "    </tr>\n",
       "    <tr>\n",
       "      <th>2</th>\n",
       "      <td>56.6</td>\n",
       "      <td>3.3</td>\n",
       "      <td>2022-04-17 12:50:00</td>\n",
       "      <td>1</td>\n",
       "    </tr>\n",
       "    <tr>\n",
       "      <th>3</th>\n",
       "      <td>56.6</td>\n",
       "      <td>3.3</td>\n",
       "      <td>2022-04-17 13:00:00</td>\n",
       "      <td>1</td>\n",
       "    </tr>\n",
       "    <tr>\n",
       "      <th>4</th>\n",
       "      <td>56.6</td>\n",
       "      <td>3.3</td>\n",
       "      <td>2022-04-17 13:50:00</td>\n",
       "      <td>1</td>\n",
       "    </tr>\n",
       "  </tbody>\n",
       "</table>\n",
       "</div>"
      ],
      "text/plain": [
       "    lat  lon             msgtime  mmsi_nunique\n",
       "0  56.6  3.3 2022-04-17 11:20:00             1\n",
       "1  56.6  3.3 2022-04-17 12:30:00             1\n",
       "2  56.6  3.3 2022-04-17 12:50:00             1\n",
       "3  56.6  3.3 2022-04-17 13:00:00             1\n",
       "4  56.6  3.3 2022-04-17 13:50:00             1"
      ]
     },
     "execution_count": 49,
     "metadata": {},
     "output_type": "execute_result"
    }
   ],
   "source": [
    "testdf = visual_df[:10]\n",
    "testdf.head()"
   ]
  },
  {
   "cell_type": "code",
   "execution_count": 50,
   "id": "9c42cf4c-fcdf-486e-a1b7-c8f8c6efe217",
   "metadata": {},
   "outputs": [
    {
     "ename": "SyntaxError",
     "evalue": "invalid syntax (<ipython-input-50-cb34e61a558f>, line 1)",
     "output_type": "error",
     "traceback": [
      "\u001b[1;36m  File \u001b[1;32m\"<ipython-input-50-cb34e61a558f>\"\u001b[1;36m, line \u001b[1;32m1\u001b[0m\n\u001b[1;33m    testdf.loc(:,['lat','lon']) = testdf[['lat','lon']].apply(lambda x:x_coord(x['lat'],x['lon']),axis = 1, result_type='expand')\u001b[0m\n\u001b[1;37m               ^\u001b[0m\n\u001b[1;31mSyntaxError\u001b[0m\u001b[1;31m:\u001b[0m invalid syntax\n"
     ]
    }
   ],
   "source": [
    "testdf.loc(,['lat','lon']) = testdf[['lat','lon']].apply(lambda x:x_coord(x['lat'],x['lon']),axis = 1, result_type='expand')\n",
    "testdf.head()"
   ]
  },
  {
   "cell_type": "code",
   "execution_count": 51,
   "id": "1dd4969d-43e4-4885-b65f-fa89a0bac082",
   "metadata": {},
   "outputs": [
    {
     "name": "stderr",
     "output_type": "stream",
     "text": [
      "<ipython-input-51-09ab4a899c35>:12: RuntimeWarning: invalid value encountered in double_scalars\n",
      "  scale = x/lon\n",
      "<ipython-input-51-09ab4a899c35>:21: SettingWithCopyWarning: \n",
      "A value is trying to be set on a copy of a slice from a DataFrame.\n",
      "Try using .loc[row_indexer,col_indexer] = value instead\n",
      "\n",
      "See the caveats in the documentation: https://pandas.pydata.org/pandas-docs/stable/user_guide/indexing.html#returning-a-view-versus-a-copy\n",
      "  visual_df[['lat','lon']] = visual_df[['lat','lon']].apply(lambda x:x_coord(x['lat'],x['lon']),axis = 1, result_type='expand')\n"
     ]
    }
   ],
   "source": [
    "from bokeh.plotting import figure,save, output_file, show\n",
    "from bokeh.tile_providers import CARTODBPOSITRON, get_provider\n",
    "from bokeh.models import ColumnDataSource\n",
    "\n",
    "def x_coord(x,y):\n",
    "    \n",
    "    lat = float(x)\n",
    "    lon = float(y)\n",
    "    \n",
    "    r_major = 6378137.000\n",
    "    x = r_major * np.radians(lon)\n",
    "    scale = x/lon\n",
    "    y = 180.0/np.pi * np.log(np.tan(np.pi/4.0 + \n",
    "        lat * (np.pi/180.0)/2.0)) * scale\n",
    "    return (x, y)\n",
    "\n",
    "output_file(\"visuals.html\")\n",
    "\n",
    "tile_provider = get_provider(CARTODBPOSITRON)\n",
    "\n",
    "visual_df[['lat','lon']] = visual_df[['lat','lon']].apply(lambda x:x_coord(x['lat'],x['lon']),axis = 1, result_type='expand')\n",
    "\n",
    "#visual_df[['lat','lon']] = [x_coord(x, y) for x, y in visual_df[['lat','lon']].values.tolist()]\n",
    "visual = visual_df[['lat', 'lon','mmsi_nunique']][visual_df['msgtime'] == '2022-04-17 11:20:00']\n",
    "\n",
    "# build your plotty\n",
    "p = figure(title=\"My first interactive plot!\", plot_width=800, plot_height=700,\n",
    "           x_range=(1500000, 1700000), y_range=(7000000, 12000000),\n",
    "           x_axis_type=\"mercator\", y_axis_type=\"mercator\")\n",
    "p.add_tile(tile_provider)\n",
    "\n",
    "# hier nochmal schauen wie die Größe in Abhängigkeit der anzabl an schiffen zu dem zeitpunkt gemessen werden kann\n",
    "p.circle(x=visual['lat'], y=visual['lon'], size=visual['mmsi_nunique'], color=\"red\")\n",
    "#p.circle(x=visual['lat'], y=visual['lon'], size=5, color=\"red\")\n",
    "\n",
    "show(p)"
   ]
  },
  {
   "cell_type": "code",
   "execution_count": null,
   "id": "c6732824-f0ec-43f3-9fd2-27678cc3aeb7",
   "metadata": {},
   "outputs": [],
   "source": []
  }
 ],
 "metadata": {
  "kernelspec": {
   "display_name": "Python 3",
   "language": "python",
   "name": "python3"
  },
  "language_info": {
   "codemirror_mode": {
    "name": "ipython",
    "version": 3
   },
   "file_extension": ".py",
   "mimetype": "text/x-python",
   "name": "python",
   "nbconvert_exporter": "python",
   "pygments_lexer": "ipython3",
   "version": "3.8.8"
  }
 },
 "nbformat": 4,
 "nbformat_minor": 5
}
