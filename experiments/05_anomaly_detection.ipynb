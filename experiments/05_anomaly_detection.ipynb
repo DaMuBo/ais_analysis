{
 "cells": [
  {
   "cell_type": "code",
   "execution_count": 1,
   "id": "3e49f97a-8604-4c3f-86f2-3185e57baaee",
   "metadata": {},
   "outputs": [],
   "source": [
    "import sys\n",
    "import os\n",
    "\n",
    "import yaml\n",
    "import pandas as pd\n",
    "import numpy as np\n",
    "from sqlalchemy import create_engine\n",
    "\n",
    "import seaborn as sns\n",
    "import matplotlib.pyplot as plt\n",
    "\n",
    "from bokeh.plotting import figure,save, output_file, show\n",
    "from bokeh.tile_providers import CARTODBPOSITRON, get_provider\n",
    "from bokeh.models import ColumnDataSource\n",
    "from bokeh.palettes import Category10\n",
    "\n",
    "from sklearn.preprocessing import MinMaxScaler\n",
    "\n",
    "from functions.utils import get_folder\n",
    "from functions.data_loads import get_columns, load_data\n",
    "\n",
    "\n",
    "pd.set_option('display.float_format', '{:.2f}'.format)\n",
    "\n",
    "curr_folder = get_folder()\n",
    "parent_fold = curr_folder.parent\n",
    "with open(parent_fold / \"connections.yml\", encoding='utf-8') as file:\n",
    "    db_config = yaml.safe_load(file)\n",
    "    \n",
    "with open(parent_fold / \"configurations\" / \"data_loads.yaml\", encoding='utf-8') as file:\n",
    "    column_conf = yaml.safe_load(file)\n",
    "    \n",
    "engine = create_engine(f'postgresql+psycopg2://{db_config[\"user\"]}:{db_config[\"password\"]}@{db_config[\"host\"]}:{db_config[\"port\"]}/{db_config[\"db\"]}')\n",
    "\n",
    "dates = [\"01.05.2022\",\"05.05.2022\"]"
   ]
  },
  {
   "cell_type": "code",
   "execution_count": null,
   "id": "6bbf0ea7-6608-430a-9b41-1cfd0eb026ad",
   "metadata": {},
   "outputs": [],
   "source": []
  }
 ],
 "metadata": {
  "kernelspec": {
   "display_name": "Python 3",
   "language": "python",
   "name": "python3"
  },
  "language_info": {
   "codemirror_mode": {
    "name": "ipython",
    "version": 3
   },
   "file_extension": ".py",
   "mimetype": "text/x-python",
   "name": "python",
   "nbconvert_exporter": "python",
   "pygments_lexer": "ipython3",
   "version": "3.8.8"
  }
 },
 "nbformat": 4,
 "nbformat_minor": 5
}
