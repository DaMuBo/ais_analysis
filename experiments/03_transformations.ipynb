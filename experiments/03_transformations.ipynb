{
 "cells": [
  {
   "cell_type": "markdown",
   "id": "7f336480-b1a0-471e-81d3-78f335fe592a",
   "metadata": {},
   "source": [
    "# 03_transformations\n",
    "\n",
    "transform and aggregate the data for the use cases\n",
    "\n",
    "## Ideas:\n",
    "* PCA on the high correlated static data for reducing dimensionality\n",
    "* create new features for geolocations\n",
    "\n",
    "* aggregating on geolocations + timeframes\n",
    "* aggregating on ships?\n",
    "\n",
    "* merging static and position data\n"
   ]
  },
  {
   "cell_type": "code",
   "execution_count": null,
   "id": "febaf0cf-68be-4a88-aa0d-ca1851c09636",
   "metadata": {},
   "outputs": [],
   "source": []
  }
 ],
 "metadata": {
  "kernelspec": {
   "display_name": "Python 3",
   "language": "python",
   "name": "python3"
  },
  "language_info": {
   "codemirror_mode": {
    "name": "ipython",
    "version": 3
   },
   "file_extension": ".py",
   "mimetype": "text/x-python",
   "name": "python",
   "nbconvert_exporter": "python",
   "pygments_lexer": "ipython3",
   "version": "3.8.8"
  }
 },
 "nbformat": 4,
 "nbformat_minor": 5
}
