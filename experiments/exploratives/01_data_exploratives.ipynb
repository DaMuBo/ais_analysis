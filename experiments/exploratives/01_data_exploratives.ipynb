{
 "cells": [
  {
   "cell_type": "markdown",
   "id": "a2cbfc08-6b0b-4796-9e63-0c91c95db479",
   "metadata": {},
   "source": [
    "# 01_Data_Exploratives\n",
    "Data Exploratives from local Database to get to know more informations about the data\n",
    "\n",
    "## Contents\n",
    "* Import Packages and functions\n",
    "* setting variables\n",
    "* overview data tables\n",
    "* overview descriptive stats\n",
    "* overview timelines\n",
    "  * all data\n",
    "  * missing days\n",
    "* overview of geodata\n",
    "* example geoplace data"
   ]
  },
  {
   "cell_type": "markdown",
   "id": "a25b3cd6-869f-4412-a9fd-beb7d92501af",
   "metadata": {},
   "source": [
    "## Import Packages and Functions"
   ]
  },
  {
   "cell_type": "code",
   "execution_count": 2,
   "id": "6a2bb68a-90ec-446b-8530-0092291a887e",
   "metadata": {},
   "outputs": [],
   "source": [
    "import sys\n",
    "import os\n",
    "\n",
    "import yaml\n",
    "import pandas as pd\n"
   ]
  },
  {
   "cell_type": "markdown",
   "id": "3b82cd52-91d0-475b-8819-3d14738fb99e",
   "metadata": {},
   "source": [
    "## Setting Variables\n",
    "* database connections\n",
    "* date ranges\n",
    "* coordinates for analyzing\n",
    "* ... ?"
   ]
  },
  {
   "cell_type": "code",
   "execution_count": null,
   "id": "36c977cc-c7f0-4a72-a147-3f4222b497ff",
   "metadata": {},
   "outputs": [],
   "source": []
  }
 ],
 "metadata": {
  "kernelspec": {
   "display_name": "Python 3",
   "language": "python",
   "name": "python3"
  },
  "language_info": {
   "codemirror_mode": {
    "name": "ipython",
    "version": 3
   },
   "file_extension": ".py",
   "mimetype": "text/x-python",
   "name": "python",
   "nbconvert_exporter": "python",
   "pygments_lexer": "ipython3",
   "version": "3.8.8"
  }
 },
 "nbformat": 4,
 "nbformat_minor": 5
}
